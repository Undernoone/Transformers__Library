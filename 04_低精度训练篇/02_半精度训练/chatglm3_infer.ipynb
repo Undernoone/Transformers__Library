{
 "cells": [
  {
   "cell_type": "code",
   "metadata": {
    "ExecuteTime": {
     "end_time": "2025-03-13T08:48:11.145377Z",
     "start_time": "2025-03-13T08:48:08.062569Z"
    }
   },
   "source": [
    "from transformers import AutoTokenizer, AutoModel"
   ],
   "outputs": [
    {
     "name": "stderr",
     "output_type": "stream",
     "text": [
      "D:\\Software\\Anaconda\\envs\\LLM\\lib\\site-packages\\transformers\\utils\\hub.py:127: FutureWarning: Using `TRANSFORMERS_CACHE` is deprecated and will be removed in v5 of Transformers. Use `HF_HOME` instead.\n",
      "  warnings.warn(\n"
     ]
    }
   ],
   "execution_count": 1
  },
  {
   "cell_type": "code",
   "metadata": {
    "ExecuteTime": {
     "end_time": "2025-03-13T08:48:18.808818Z",
     "start_time": "2025-03-13T08:48:12.330766Z"
    }
   },
   "source": [
    "tokenizer = AutoTokenizer.from_pretrained(\"THUDM/chatglm3-6b\", trust_remote_code=True)\n",
    "tokenizer"
   ],
   "outputs": [
    {
     "name": "stderr",
     "output_type": "stream",
     "text": [
      "A new version of the following files was downloaded from https://huggingface.co/THUDM/chatglm3-6b:\n",
      "- tokenization_chatglm.py\n",
      ". Make sure to double-check they do not contain any added malicious code. To avoid downloading new versions of the code file, you can pin a revision.\n",
      "Setting eos_token is not supported, use the default one.\n",
      "Setting pad_token is not supported, use the default one.\n",
      "Setting unk_token is not supported, use the default one.\n"
     ]
    },
    {
     "data": {
      "text/plain": [
       "ChatGLMTokenizer(name_or_path='THUDM/chatglm3-6b', vocab_size=64798, model_max_length=1000000000000000019884624838656, is_fast=False, padding_side='left', truncation_side='right', special_tokens={'eos_token': '</s>', 'unk_token': '<unk>', 'pad_token': '<unk>'}, clean_up_tokenization_spaces=False),  added_tokens_decoder={\n",
       "\t64790: AddedToken(\"[gMASK]\", rstrip=False, lstrip=False, single_word=False, normalized=True, special=False),\n",
       "\t64792: AddedToken(\"sop\", rstrip=False, lstrip=False, single_word=False, normalized=True, special=False),\n",
       "\t64795: AddedToken(\"<|user|>\", rstrip=False, lstrip=False, single_word=False, normalized=True, special=False),\n",
       "\t64796: AddedToken(\"<|assistant|>\", rstrip=False, lstrip=False, single_word=False, normalized=True, special=False),\n",
       "}"
      ]
     },
     "execution_count": 2,
     "metadata": {},
     "output_type": "execute_result"
    }
   ],
   "execution_count": 2
  },
  {
   "cell_type": "code",
   "metadata": {
    "ExecuteTime": {
     "end_time": "2025-03-13T08:48:28.837335Z",
     "start_time": "2025-03-13T08:48:21.052275Z"
    }
   },
   "source": [
    "import torch\n",
    "\"\"\"\n",
    "新版本中需要将modeling_chatglm源码中的613行部分进行调整，代码如下：\n",
    "\n",
    "```\n",
    "if not kv_caches:\n",
    "    kv_caches = [None for _ in range(self.num_layers)]\n",
    "else:\n",
    "    kv_caches = kv_caches[1]\n",
    "```\n",
    "\n",
    "如果不进行调整，后续chat阶段会报错\n",
    "\"\"\"\n",
    "model = AutoModel.from_pretrained(\"THUDM/chatglm3-6b\", trust_remote_code=True, low_cpu_mem_usage=True, torch_dtype=torch.half, device_map=\"auto\")"
   ],
   "outputs": [
    {
     "name": "stderr",
     "output_type": "stream",
     "text": [
      "A new version of the following files was downloaded from https://huggingface.co/THUDM/chatglm3-6b:\n",
      "- configuration_chatglm.py\n",
      ". Make sure to double-check they do not contain any added malicious code. To avoid downloading new versions of the code file, you can pin a revision.\n",
      "A new version of the following files was downloaded from https://huggingface.co/THUDM/chatglm3-6b:\n",
      "- modeling_chatglm.py\n",
      ". Make sure to double-check they do not contain any added malicious code. To avoid downloading new versions of the code file, you can pin a revision.\n"
     ]
    },
    {
     "data": {
      "text/plain": [
       "Downloading shards:   0%|          | 0/7 [00:00<?, ?it/s]"
      ],
      "application/vnd.jupyter.widget-view+json": {
       "version_major": 2,
       "version_minor": 0,
       "model_id": "099b9a0f3999467cbd94d3f82abe650f"
      }
     },
     "metadata": {},
     "output_type": "display_data"
    },
    {
     "data": {
      "text/plain": [
       "Loading checkpoint shards:   0%|          | 0/7 [00:00<?, ?it/s]"
      ],
      "application/vnd.jupyter.widget-view+json": {
       "version_major": 2,
       "version_minor": 0,
       "model_id": "83f4f565b6b049418d109493bfce7836"
      }
     },
     "metadata": {},
     "output_type": "display_data"
    },
    {
     "name": "stderr",
     "output_type": "stream",
     "text": [
      "Some parameters are on the meta device device because they were offloaded to the cpu and disk.\n"
     ]
    }
   ],
   "execution_count": 3
  },
  {
   "cell_type": "code",
   "metadata": {
    "ExecuteTime": {
     "end_time": "2025-03-13T09:01:20.962311Z",
     "start_time": "2025-03-13T08:48:32.357256Z"
    }
   },
   "source": [
    "model.chat(tokenizer, \"考试的技巧有哪些？\", history=[])"
   ],
   "outputs": [
    {
     "data": {
      "text/plain": [
       "('以下是一些应对考试的技巧:\\n\\n1. 提前准备:提前开始复习,制定详细的学习计划,并按照计划执行。\\n\\n2. 熟悉考试形式:了解考试的格式和类型,熟悉考试题型,以便在考试时能够更好地应对。\\n\\n3. 睡眠充足:在考试前夜,保证充足的睡眠时间,以确保在考试时能够保持清醒和专注。\\n\\n4. 控制情绪:在考试期间保持冷静,不要让紧张和压力影响你的表现。\\n\\n5. 注意时间管理:在考试期间,注意分配时间,合理处理每个题目,不要花费过多时间在一个题目上。\\n\\n6. 仔细阅读题目:在开始回答每个问题时,仔细阅读题目,确保理解了问题的意思,以便正确地回答问题。\\n\\n7. 创造一个适合学习的环境:创造一个安静、整洁、舒适的学习环境,以便能够集中精力学习。\\n\\n8. 练习做题:多做练习题,以便熟悉考试题型和考试形式,并在考试时更加自信。\\n\\n9. 不要放弃:即使考试中遇到难题,也不要放弃,继续尝试解决,这可能会帮助你得到额外分数。\\n\\n10. 复习策略:使用多种复习策略,如制作笔记、制作概念图、做练习题等,以便更好地理解和记忆所学内容。',\n",
       " [{'role': 'user', 'content': '考试的技巧有哪些？'},\n",
       "  {'role': 'assistant',\n",
       "   'metadata': '',\n",
       "   'content': '以下是一些应对考试的技巧:\\n\\n1. 提前准备:提前开始复习,制定详细的学习计划,并按照计划执行。\\n\\n2. 熟悉考试形式:了解考试的格式和类型,熟悉考试题型,以便在考试时能够更好地应对。\\n\\n3. 睡眠充足:在考试前夜,保证充足的睡眠时间,以确保在考试时能够保持清醒和专注。\\n\\n4. 控制情绪:在考试期间保持冷静,不要让紧张和压力影响你的表现。\\n\\n5. 注意时间管理:在考试期间,注意分配时间,合理处理每个题目,不要花费过多时间在一个题目上。\\n\\n6. 仔细阅读题目:在开始回答每个问题时,仔细阅读题目,确保理解了问题的意思,以便正确地回答问题。\\n\\n7. 创造一个适合学习的环境:创造一个安静、整洁、舒适的学习环境,以便能够集中精力学习。\\n\\n8. 练习做题:多做练习题,以便熟悉考试题型和考试形式,并在考试时更加自信。\\n\\n9. 不要放弃:即使考试中遇到难题,也不要放弃,继续尝试解决,这可能会帮助你得到额外分数。\\n\\n10. 复习策略:使用多种复习策略,如制作笔记、制作概念图、做练习题等,以便更好地理解和记忆所学内容。'}])"
      ]
     },
     "execution_count": 4,
     "metadata": {},
     "output_type": "execute_result"
    }
   ],
   "execution_count": 4
  },
  {
   "cell_type": "code",
   "metadata": {},
   "source": [
    "?model.chat"
   ],
   "outputs": [],
   "execution_count": null
  },
  {
   "cell_type": "code",
   "metadata": {},
   "source": [
    "?tokenizer.build_chat_input"
   ],
   "outputs": [],
   "execution_count": null
  },
  {
   "cell_type": "code",
   "metadata": {},
   "source": [
    "tokenizer(\"<|user|>\", add_special_tokens=False)"
   ],
   "outputs": [],
   "execution_count": null
  },
  {
   "cell_type": "code",
   "metadata": {},
   "source": [
    "tokenizer.get_command(\"<|user|>\")"
   ],
   "outputs": [],
   "execution_count": null
  },
  {
   "cell_type": "code",
   "metadata": {},
   "source": [
    "tokenizer.build_chat_input(\"考试的技巧有哪些？\", history=[], role=\"user\")"
   ],
   "outputs": [],
   "execution_count": null
  },
  {
   "cell_type": "code",
   "metadata": {},
   "source": [
    "tokenizer.decode([64790, 64792, 64795, 30910,    13, 30910, 32227, 54530, 33741, 34953,\n",
    "         31514, 64796])"
   ],
   "outputs": [],
   "execution_count": null
  },
  {
   "cell_type": "markdown",
   "metadata": {},
   "source": [
    "数据格式：\n",
    "\n",
    "[gMASK]sop<|user|> \\n Prompt<|assistant|> \\n Response eos_token"
   ]
  },
  {
   "cell_type": "markdown",
   "metadata": {},
   "source": []
  }
 ],
 "metadata": {
  "kernelspec": {
   "display_name": "transformers",
   "language": "python",
   "name": "python3"
  },
  "language_info": {
   "codemirror_mode": {
    "name": "ipython",
    "version": 3
   },
   "file_extension": ".py",
   "mimetype": "text/x-python",
   "name": "python",
   "nbconvert_exporter": "python",
   "pygments_lexer": "ipython3",
   "version": "3.9.16"
  }
 },
 "nbformat": 4,
 "nbformat_minor": 2
}
