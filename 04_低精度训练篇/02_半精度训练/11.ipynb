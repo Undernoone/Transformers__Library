{
 "cells": [
  {
   "cell_type": "code",
   "id": "initial_id",
   "metadata": {
    "collapsed": true,
    "ExecuteTime": {
     "end_time": "2025-03-12T07:32:08.048579Z",
     "start_time": "2025-03-12T07:32:00.953649Z"
    }
   },
   "source": [
    "import torch\n",
    "from datasets import Dataset\n",
    "from transformers import AutoTokenizer, AutoModelForCausalLM, TrainingArguments, Trainer, DataCollatorForSeq2Seq, Seq2SeqTrainingArguments\n",
    "from peft import LoraConfig\n",
    "from peft import TaskType\n",
    "from peft import get_peft_model"
   ],
   "outputs": [
    {
     "name": "stderr",
     "output_type": "stream",
     "text": [
      "D:\\Software\\Anaconda\\envs\\LLM\\lib\\site-packages\\transformers\\utils\\hub.py:127: FutureWarning: Using `TRANSFORMERS_CACHE` is deprecated and will be removed in v5 of Transformers. Use `HF_HOME` instead.\n",
      "  warnings.warn(\n"
     ]
    }
   ],
   "execution_count": 1
  },
  {
   "metadata": {
    "ExecuteTime": {
     "end_time": "2025-03-12T07:32:09.640662Z",
     "start_time": "2025-03-12T07:32:09.613659Z"
    }
   },
   "cell_type": "code",
   "source": [
    "dataset = Dataset.load_from_disk(\"../../02_实战演练篇/09_对话机器人/alpaca_data_zh\") \n",
    "dataset\n",
    "dataset[0:3]"
   ],
   "id": "fc7f295d1a28c859",
   "outputs": [
    {
     "data": {
      "text/plain": [
       "{'output': ['以下是保持健康的三个提示：\\n\\n1. 保持身体活动。每天做适当的身体运动，如散步、跑步或游泳，能促进心血管健康，增强肌肉力量，并有助于减少体重。\\n\\n2. 均衡饮食。每天食用新鲜的蔬菜、水果、全谷物和脂肪含量低的蛋白质食物，避免高糖、高脂肪和加工食品，以保持健康的饮食习惯。\\n\\n3. 睡眠充足。睡眠对人体健康至关重要，成年人每天应保证 7-8 小时的睡眠。良好的睡眠有助于减轻压力，促进身体恢复，并提高注意力和记忆力。',\n",
       "  '4/16等于1/4是因为我们可以约分分子分母都除以他们的最大公约数4，得到（4÷4）/ (16÷4）=1/4。分数的约分是用分子和分母除以相同的非零整数，来表示分数的一个相同的值，这因为分数实际上表示了分子除以分母，所以即使两个数同时除以同一个非零整数，分数的值也不会改变。所以4/16 和1/4是两种不同的书写形式，但它们的值相等。',\n",
       "  '朱利叶斯·凯撒，又称尤利乌斯·恺撒（Julius Caesar）是古罗马的政治家、军事家和作家。他于公元前44年3月15日被刺杀。 \\n\\n根据历史记载，当时罗马元老院里一些参议员联合起来策划了对恺撒的刺杀行动，因为他们担心恺撒的统治将给罗马共和制带来威胁。在公元前44年3月15日（又称“3月的艾达之日”），恺撒去参加元老院会议时，被一群参议员包围并被攻击致死。据记载，他身中23刀，其中一刀最终致命。'],\n",
       " 'input': ['', '输入：4/16', ''],\n",
       " 'instruction': ['保持健康的三个提示。', '解释为什么以下分数等同于1/4', '朱利叶斯·凯撒是如何死亡的？']}"
      ]
     },
     "execution_count": 2,
     "metadata": {},
     "output_type": "execute_result"
    }
   ],
   "execution_count": 2
  },
  {
   "metadata": {
    "ExecuteTime": {
     "end_time": "2025-03-12T07:32:10.572053Z",
     "start_time": "2025-03-12T07:32:10.378286Z"
    }
   },
   "cell_type": "code",
   "source": [
    "tokenizer = AutoTokenizer.from_pretrained(\"D:/Study_Date/Modelscope/cache/modelscope/Llama-2-7b-ms\")\n",
    "tokenizer\n",
    "tokenizer.padding_side = \"right\"\n",
    "tokenizer"
   ],
   "id": "24ec8efad5dc24fb",
   "outputs": [
    {
     "data": {
      "text/plain": [
       "LlamaTokenizerFast(name_or_path='D:/Study_Date/Modelscope/cache/modelscope/Llama-2-7b-ms', vocab_size=32000, model_max_length=1000000000000000019884624838656, is_fast=True, padding_side='right', truncation_side='right', special_tokens={'bos_token': '<s>', 'eos_token': '</s>', 'unk_token': '<unk>', 'pad_token': '<unk>'}, clean_up_tokenization_spaces=False),  added_tokens_decoder={\n",
       "\t0: AddedToken(\"<unk>\", rstrip=False, lstrip=False, single_word=False, normalized=True, special=True),\n",
       "\t1: AddedToken(\"<s>\", rstrip=False, lstrip=False, single_word=False, normalized=True, special=True),\n",
       "\t2: AddedToken(\"</s>\", rstrip=False, lstrip=False, single_word=False, normalized=True, special=True),\n",
       "\t32000: AddedToken(\"<pad>\", rstrip=False, lstrip=False, single_word=False, normalized=True, special=False),\n",
       "}"
      ]
     },
     "execution_count": 3,
     "metadata": {},
     "output_type": "execute_result"
    }
   ],
   "execution_count": 3
  },
  {
   "metadata": {
    "ExecuteTime": {
     "end_time": "2025-03-12T07:32:11.164123Z",
     "start_time": "2025-03-12T07:32:11.154124Z"
    }
   },
   "cell_type": "code",
   "source": [
    " def preprocess_function(examples):\n",
    "    max_length = 384\n",
    "    inputs_ids, attention_mask, labels = [], [], []\n",
    "    instruction = tokenizer(\"\\n\".join([\"Human: \" + examples[\"instruction\"], examples[\"input\"]]).strip() + \"\\n\\nAssistant: \",add_special_tokens=False)\n",
    "    response = tokenizer(examples[\"output\"] + tokenizer.eos_token)\n",
    "    inputs_ids = instruction[\"input_ids\"] + response[\"input_ids\"]\n",
    "    attention_mask = instruction[\"attention_mask\"] + response[\"attention_mask\"]\n",
    "    labels = [-100] * len(instruction[\"input_ids\"]) + response[\"input_ids\"] # 模型只需要学习response\n",
    "    if len(inputs_ids) > max_length:\n",
    "        inputs_ids = inputs_ids[:max_length]\n",
    "        attention_mask = attention_mask[:max_length]\n",
    "        labels = labels[:max_length]\n",
    "    return {\"input_ids\": inputs_ids, \"attention_mask\": attention_mask, \"labels\": labels}"
   ],
   "id": "4cfa036bf4da871c",
   "outputs": [],
   "execution_count": 4
  },
  {
   "metadata": {
    "ExecuteTime": {
     "end_time": "2025-03-12T07:32:12.397950Z",
     "start_time": "2025-03-12T07:32:12.337868Z"
    }
   },
   "cell_type": "code",
   "source": [
    "tokenized_datasets = dataset.map(preprocess_function,remove_columns=dataset.column_names)\n",
    "tokenized_datasets"
   ],
   "id": "f6c3fdeec80a579a",
   "outputs": [
    {
     "data": {
      "text/plain": [
       "Dataset({\n",
       "    features: ['input_ids', 'attention_mask', 'labels'],\n",
       "    num_rows: 26858\n",
       "})"
      ]
     },
     "execution_count": 5,
     "metadata": {},
     "output_type": "execute_result"
    }
   ],
   "execution_count": 5
  },
  {
   "metadata": {
    "ExecuteTime": {
     "end_time": "2025-03-12T07:32:12.992249Z",
     "start_time": "2025-03-12T07:32:12.971250Z"
    }
   },
   "cell_type": "code",
   "source": "tokenizer.decode(tokenized_datasets[0][\"input_ids\"])",
   "id": "8291928893928236",
   "outputs": [
    {
     "data": {
      "text/plain": [
       "'Human: 保持健康的三个提示。\\n\\nAssistant: <s> 以下是保持健康的三个提示：\\n\\n1. 保持身体活动。每天做适当的身体运动，如散步、跑步或游泳，能促进心血管健康，增强肌肉力量，并有助于减少体重。\\n\\n2. 均衡饮食。每天食用新鲜的蔬菜、水果、全谷物和脂肪含量低的蛋白质食物，避免高糖、高脂肪和加工食品，以保持健康的饮食习惯。\\n\\n3. 睡眠充足。睡眠对人体健康至关重要，成年人每天应保证 7-8 小时的睡眠。良好的睡眠有助于减轻压力，促进身体恢复，并提高注意力和记忆力。</s>'"
      ]
     },
     "execution_count": 6,
     "metadata": {},
     "output_type": "execute_result"
    }
   ],
   "execution_count": 6
  },
  {
   "metadata": {
    "ExecuteTime": {
     "end_time": "2025-03-12T07:32:14.193708Z",
     "start_time": "2025-03-12T07:32:13.468414Z"
    }
   },
   "cell_type": "code",
   "source": "model = AutoModelForCausalLM.from_pretrained(\"D:/Study_Date/Modelscope/cache/modelscope/Llama-2-7b-ms\",low_cpu_mem_usage=True,torch_dtype=torch.float16)",
   "id": "87050e8664173661",
   "outputs": [
    {
     "data": {
      "text/plain": [
       "Loading checkpoint shards:   0%|          | 0/2 [00:00<?, ?it/s]"
      ],
      "application/vnd.jupyter.widget-view+json": {
       "version_major": 2,
       "version_minor": 0,
       "model_id": "8d6ad0bae3a7469db99697300ee2c168"
      }
     },
     "metadata": {},
     "output_type": "display_data"
    },
    {
     "name": "stderr",
     "output_type": "stream",
     "text": [
      "D:\\Software\\Anaconda\\envs\\LLM\\lib\\site-packages\\transformers\\generation\\configuration_utils.py:540: UserWarning: `do_sample` is set to `False`. However, `temperature` is set to `0.9` -- this flag is only used in sample-based generation modes. You should set `do_sample=True` or unset `temperature`. This was detected when initializing the generation config instance, which means the corresponding file may hold incorrect parameterization and should be fixed.\n",
      "  warnings.warn(\n",
      "D:\\Software\\Anaconda\\envs\\LLM\\lib\\site-packages\\transformers\\generation\\configuration_utils.py:545: UserWarning: `do_sample` is set to `False`. However, `top_p` is set to `0.6` -- this flag is only used in sample-based generation modes. You should set `do_sample=True` or unset `top_p`. This was detected when initializing the generation config instance, which means the corresponding file may hold incorrect parameterization and should be fixed.\n",
      "  warnings.warn(\n",
      "D:\\Software\\Anaconda\\envs\\LLM\\lib\\site-packages\\transformers\\generation\\configuration_utils.py:540: UserWarning: `do_sample` is set to `False`. However, `temperature` is set to `0.9` -- this flag is only used in sample-based generation modes. You should set `do_sample=True` or unset `temperature`.\n",
      "  warnings.warn(\n",
      "D:\\Software\\Anaconda\\envs\\LLM\\lib\\site-packages\\transformers\\generation\\configuration_utils.py:545: UserWarning: `do_sample` is set to `False`. However, `top_p` is set to `0.6` -- this flag is only used in sample-based generation modes. You should set `do_sample=True` or unset `top_p`.\n",
      "  warnings.warn(\n"
     ]
    }
   ],
   "execution_count": 7
  },
  {
   "metadata": {
    "ExecuteTime": {
     "end_time": "2025-03-12T07:32:14.209707Z",
     "start_time": "2025-03-12T07:32:14.196733Z"
    }
   },
   "cell_type": "code",
   "source": [
    "for name, param in model.named_parameters():\n",
    "    print(name, param.dtype)"
   ],
   "id": "b4c1506f7cdee70",
   "outputs": [
    {
     "name": "stdout",
     "output_type": "stream",
     "text": [
      "model.embed_tokens.weight torch.float16\n",
      "model.layers.0.self_attn.q_proj.weight torch.float16\n",
      "model.layers.0.self_attn.k_proj.weight torch.float16\n",
      "model.layers.0.self_attn.v_proj.weight torch.float16\n",
      "model.layers.0.self_attn.o_proj.weight torch.float16\n",
      "model.layers.0.mlp.gate_proj.weight torch.float16\n",
      "model.layers.0.mlp.up_proj.weight torch.float16\n",
      "model.layers.0.mlp.down_proj.weight torch.float16\n",
      "model.layers.0.input_layernorm.weight torch.float16\n",
      "model.layers.0.post_attention_layernorm.weight torch.float16\n",
      "model.layers.1.self_attn.q_proj.weight torch.float16\n",
      "model.layers.1.self_attn.k_proj.weight torch.float16\n",
      "model.layers.1.self_attn.v_proj.weight torch.float16\n",
      "model.layers.1.self_attn.o_proj.weight torch.float16\n",
      "model.layers.1.mlp.gate_proj.weight torch.float16\n",
      "model.layers.1.mlp.up_proj.weight torch.float16\n",
      "model.layers.1.mlp.down_proj.weight torch.float16\n",
      "model.layers.1.input_layernorm.weight torch.float16\n",
      "model.layers.1.post_attention_layernorm.weight torch.float16\n",
      "model.layers.2.self_attn.q_proj.weight torch.float16\n",
      "model.layers.2.self_attn.k_proj.weight torch.float16\n",
      "model.layers.2.self_attn.v_proj.weight torch.float16\n",
      "model.layers.2.self_attn.o_proj.weight torch.float16\n",
      "model.layers.2.mlp.gate_proj.weight torch.float16\n",
      "model.layers.2.mlp.up_proj.weight torch.float16\n",
      "model.layers.2.mlp.down_proj.weight torch.float16\n",
      "model.layers.2.input_layernorm.weight torch.float16\n",
      "model.layers.2.post_attention_layernorm.weight torch.float16\n",
      "model.layers.3.self_attn.q_proj.weight torch.float16\n",
      "model.layers.3.self_attn.k_proj.weight torch.float16\n",
      "model.layers.3.self_attn.v_proj.weight torch.float16\n",
      "model.layers.3.self_attn.o_proj.weight torch.float16\n",
      "model.layers.3.mlp.gate_proj.weight torch.float16\n",
      "model.layers.3.mlp.up_proj.weight torch.float16\n",
      "model.layers.3.mlp.down_proj.weight torch.float16\n",
      "model.layers.3.input_layernorm.weight torch.float16\n",
      "model.layers.3.post_attention_layernorm.weight torch.float16\n",
      "model.layers.4.self_attn.q_proj.weight torch.float16\n",
      "model.layers.4.self_attn.k_proj.weight torch.float16\n",
      "model.layers.4.self_attn.v_proj.weight torch.float16\n",
      "model.layers.4.self_attn.o_proj.weight torch.float16\n",
      "model.layers.4.mlp.gate_proj.weight torch.float16\n",
      "model.layers.4.mlp.up_proj.weight torch.float16\n",
      "model.layers.4.mlp.down_proj.weight torch.float16\n",
      "model.layers.4.input_layernorm.weight torch.float16\n",
      "model.layers.4.post_attention_layernorm.weight torch.float16\n",
      "model.layers.5.self_attn.q_proj.weight torch.float16\n",
      "model.layers.5.self_attn.k_proj.weight torch.float16\n",
      "model.layers.5.self_attn.v_proj.weight torch.float16\n",
      "model.layers.5.self_attn.o_proj.weight torch.float16\n",
      "model.layers.5.mlp.gate_proj.weight torch.float16\n",
      "model.layers.5.mlp.up_proj.weight torch.float16\n",
      "model.layers.5.mlp.down_proj.weight torch.float16\n",
      "model.layers.5.input_layernorm.weight torch.float16\n",
      "model.layers.5.post_attention_layernorm.weight torch.float16\n",
      "model.layers.6.self_attn.q_proj.weight torch.float16\n",
      "model.layers.6.self_attn.k_proj.weight torch.float16\n",
      "model.layers.6.self_attn.v_proj.weight torch.float16\n",
      "model.layers.6.self_attn.o_proj.weight torch.float16\n",
      "model.layers.6.mlp.gate_proj.weight torch.float16\n",
      "model.layers.6.mlp.up_proj.weight torch.float16\n",
      "model.layers.6.mlp.down_proj.weight torch.float16\n",
      "model.layers.6.input_layernorm.weight torch.float16\n",
      "model.layers.6.post_attention_layernorm.weight torch.float16\n",
      "model.layers.7.self_attn.q_proj.weight torch.float16\n",
      "model.layers.7.self_attn.k_proj.weight torch.float16\n",
      "model.layers.7.self_attn.v_proj.weight torch.float16\n",
      "model.layers.7.self_attn.o_proj.weight torch.float16\n",
      "model.layers.7.mlp.gate_proj.weight torch.float16\n",
      "model.layers.7.mlp.up_proj.weight torch.float16\n",
      "model.layers.7.mlp.down_proj.weight torch.float16\n",
      "model.layers.7.input_layernorm.weight torch.float16\n",
      "model.layers.7.post_attention_layernorm.weight torch.float16\n",
      "model.layers.8.self_attn.q_proj.weight torch.float16\n",
      "model.layers.8.self_attn.k_proj.weight torch.float16\n",
      "model.layers.8.self_attn.v_proj.weight torch.float16\n",
      "model.layers.8.self_attn.o_proj.weight torch.float16\n",
      "model.layers.8.mlp.gate_proj.weight torch.float16\n",
      "model.layers.8.mlp.up_proj.weight torch.float16\n",
      "model.layers.8.mlp.down_proj.weight torch.float16\n",
      "model.layers.8.input_layernorm.weight torch.float16\n",
      "model.layers.8.post_attention_layernorm.weight torch.float16\n",
      "model.layers.9.self_attn.q_proj.weight torch.float16\n",
      "model.layers.9.self_attn.k_proj.weight torch.float16\n",
      "model.layers.9.self_attn.v_proj.weight torch.float16\n",
      "model.layers.9.self_attn.o_proj.weight torch.float16\n",
      "model.layers.9.mlp.gate_proj.weight torch.float16\n",
      "model.layers.9.mlp.up_proj.weight torch.float16\n",
      "model.layers.9.mlp.down_proj.weight torch.float16\n",
      "model.layers.9.input_layernorm.weight torch.float16\n",
      "model.layers.9.post_attention_layernorm.weight torch.float16\n",
      "model.layers.10.self_attn.q_proj.weight torch.float16\n",
      "model.layers.10.self_attn.k_proj.weight torch.float16\n",
      "model.layers.10.self_attn.v_proj.weight torch.float16\n",
      "model.layers.10.self_attn.o_proj.weight torch.float16\n",
      "model.layers.10.mlp.gate_proj.weight torch.float16\n",
      "model.layers.10.mlp.up_proj.weight torch.float16\n",
      "model.layers.10.mlp.down_proj.weight torch.float16\n",
      "model.layers.10.input_layernorm.weight torch.float16\n",
      "model.layers.10.post_attention_layernorm.weight torch.float16\n",
      "model.layers.11.self_attn.q_proj.weight torch.float16\n",
      "model.layers.11.self_attn.k_proj.weight torch.float16\n",
      "model.layers.11.self_attn.v_proj.weight torch.float16\n",
      "model.layers.11.self_attn.o_proj.weight torch.float16\n",
      "model.layers.11.mlp.gate_proj.weight torch.float16\n",
      "model.layers.11.mlp.up_proj.weight torch.float16\n",
      "model.layers.11.mlp.down_proj.weight torch.float16\n",
      "model.layers.11.input_layernorm.weight torch.float16\n",
      "model.layers.11.post_attention_layernorm.weight torch.float16\n",
      "model.layers.12.self_attn.q_proj.weight torch.float16\n",
      "model.layers.12.self_attn.k_proj.weight torch.float16\n",
      "model.layers.12.self_attn.v_proj.weight torch.float16\n",
      "model.layers.12.self_attn.o_proj.weight torch.float16\n",
      "model.layers.12.mlp.gate_proj.weight torch.float16\n",
      "model.layers.12.mlp.up_proj.weight torch.float16\n",
      "model.layers.12.mlp.down_proj.weight torch.float16\n",
      "model.layers.12.input_layernorm.weight torch.float16\n",
      "model.layers.12.post_attention_layernorm.weight torch.float16\n",
      "model.layers.13.self_attn.q_proj.weight torch.float16\n",
      "model.layers.13.self_attn.k_proj.weight torch.float16\n",
      "model.layers.13.self_attn.v_proj.weight torch.float16\n",
      "model.layers.13.self_attn.o_proj.weight torch.float16\n",
      "model.layers.13.mlp.gate_proj.weight torch.float16\n",
      "model.layers.13.mlp.up_proj.weight torch.float16\n",
      "model.layers.13.mlp.down_proj.weight torch.float16\n",
      "model.layers.13.input_layernorm.weight torch.float16\n",
      "model.layers.13.post_attention_layernorm.weight torch.float16\n",
      "model.layers.14.self_attn.q_proj.weight torch.float16\n",
      "model.layers.14.self_attn.k_proj.weight torch.float16\n",
      "model.layers.14.self_attn.v_proj.weight torch.float16\n",
      "model.layers.14.self_attn.o_proj.weight torch.float16\n",
      "model.layers.14.mlp.gate_proj.weight torch.float16\n",
      "model.layers.14.mlp.up_proj.weight torch.float16\n",
      "model.layers.14.mlp.down_proj.weight torch.float16\n",
      "model.layers.14.input_layernorm.weight torch.float16\n",
      "model.layers.14.post_attention_layernorm.weight torch.float16\n",
      "model.layers.15.self_attn.q_proj.weight torch.float16\n",
      "model.layers.15.self_attn.k_proj.weight torch.float16\n",
      "model.layers.15.self_attn.v_proj.weight torch.float16\n",
      "model.layers.15.self_attn.o_proj.weight torch.float16\n",
      "model.layers.15.mlp.gate_proj.weight torch.float16\n",
      "model.layers.15.mlp.up_proj.weight torch.float16\n",
      "model.layers.15.mlp.down_proj.weight torch.float16\n",
      "model.layers.15.input_layernorm.weight torch.float16\n",
      "model.layers.15.post_attention_layernorm.weight torch.float16\n",
      "model.layers.16.self_attn.q_proj.weight torch.float16\n",
      "model.layers.16.self_attn.k_proj.weight torch.float16\n",
      "model.layers.16.self_attn.v_proj.weight torch.float16\n",
      "model.layers.16.self_attn.o_proj.weight torch.float16\n",
      "model.layers.16.mlp.gate_proj.weight torch.float16\n",
      "model.layers.16.mlp.up_proj.weight torch.float16\n",
      "model.layers.16.mlp.down_proj.weight torch.float16\n",
      "model.layers.16.input_layernorm.weight torch.float16\n",
      "model.layers.16.post_attention_layernorm.weight torch.float16\n",
      "model.layers.17.self_attn.q_proj.weight torch.float16\n",
      "model.layers.17.self_attn.k_proj.weight torch.float16\n",
      "model.layers.17.self_attn.v_proj.weight torch.float16\n",
      "model.layers.17.self_attn.o_proj.weight torch.float16\n",
      "model.layers.17.mlp.gate_proj.weight torch.float16\n",
      "model.layers.17.mlp.up_proj.weight torch.float16\n",
      "model.layers.17.mlp.down_proj.weight torch.float16\n",
      "model.layers.17.input_layernorm.weight torch.float16\n",
      "model.layers.17.post_attention_layernorm.weight torch.float16\n",
      "model.layers.18.self_attn.q_proj.weight torch.float16\n",
      "model.layers.18.self_attn.k_proj.weight torch.float16\n",
      "model.layers.18.self_attn.v_proj.weight torch.float16\n",
      "model.layers.18.self_attn.o_proj.weight torch.float16\n",
      "model.layers.18.mlp.gate_proj.weight torch.float16\n",
      "model.layers.18.mlp.up_proj.weight torch.float16\n",
      "model.layers.18.mlp.down_proj.weight torch.float16\n",
      "model.layers.18.input_layernorm.weight torch.float16\n",
      "model.layers.18.post_attention_layernorm.weight torch.float16\n",
      "model.layers.19.self_attn.q_proj.weight torch.float16\n",
      "model.layers.19.self_attn.k_proj.weight torch.float16\n",
      "model.layers.19.self_attn.v_proj.weight torch.float16\n",
      "model.layers.19.self_attn.o_proj.weight torch.float16\n",
      "model.layers.19.mlp.gate_proj.weight torch.float16\n",
      "model.layers.19.mlp.up_proj.weight torch.float16\n",
      "model.layers.19.mlp.down_proj.weight torch.float16\n",
      "model.layers.19.input_layernorm.weight torch.float16\n",
      "model.layers.19.post_attention_layernorm.weight torch.float16\n",
      "model.layers.20.self_attn.q_proj.weight torch.float16\n",
      "model.layers.20.self_attn.k_proj.weight torch.float16\n",
      "model.layers.20.self_attn.v_proj.weight torch.float16\n",
      "model.layers.20.self_attn.o_proj.weight torch.float16\n",
      "model.layers.20.mlp.gate_proj.weight torch.float16\n",
      "model.layers.20.mlp.up_proj.weight torch.float16\n",
      "model.layers.20.mlp.down_proj.weight torch.float16\n",
      "model.layers.20.input_layernorm.weight torch.float16\n",
      "model.layers.20.post_attention_layernorm.weight torch.float16\n",
      "model.layers.21.self_attn.q_proj.weight torch.float16\n",
      "model.layers.21.self_attn.k_proj.weight torch.float16\n",
      "model.layers.21.self_attn.v_proj.weight torch.float16\n",
      "model.layers.21.self_attn.o_proj.weight torch.float16\n",
      "model.layers.21.mlp.gate_proj.weight torch.float16\n",
      "model.layers.21.mlp.up_proj.weight torch.float16\n",
      "model.layers.21.mlp.down_proj.weight torch.float16\n",
      "model.layers.21.input_layernorm.weight torch.float16\n",
      "model.layers.21.post_attention_layernorm.weight torch.float16\n",
      "model.layers.22.self_attn.q_proj.weight torch.float16\n",
      "model.layers.22.self_attn.k_proj.weight torch.float16\n",
      "model.layers.22.self_attn.v_proj.weight torch.float16\n",
      "model.layers.22.self_attn.o_proj.weight torch.float16\n",
      "model.layers.22.mlp.gate_proj.weight torch.float16\n",
      "model.layers.22.mlp.up_proj.weight torch.float16\n",
      "model.layers.22.mlp.down_proj.weight torch.float16\n",
      "model.layers.22.input_layernorm.weight torch.float16\n",
      "model.layers.22.post_attention_layernorm.weight torch.float16\n",
      "model.layers.23.self_attn.q_proj.weight torch.float16\n",
      "model.layers.23.self_attn.k_proj.weight torch.float16\n",
      "model.layers.23.self_attn.v_proj.weight torch.float16\n",
      "model.layers.23.self_attn.o_proj.weight torch.float16\n",
      "model.layers.23.mlp.gate_proj.weight torch.float16\n",
      "model.layers.23.mlp.up_proj.weight torch.float16\n",
      "model.layers.23.mlp.down_proj.weight torch.float16\n",
      "model.layers.23.input_layernorm.weight torch.float16\n",
      "model.layers.23.post_attention_layernorm.weight torch.float16\n",
      "model.layers.24.self_attn.q_proj.weight torch.float16\n",
      "model.layers.24.self_attn.k_proj.weight torch.float16\n",
      "model.layers.24.self_attn.v_proj.weight torch.float16\n",
      "model.layers.24.self_attn.o_proj.weight torch.float16\n",
      "model.layers.24.mlp.gate_proj.weight torch.float16\n",
      "model.layers.24.mlp.up_proj.weight torch.float16\n",
      "model.layers.24.mlp.down_proj.weight torch.float16\n",
      "model.layers.24.input_layernorm.weight torch.float16\n",
      "model.layers.24.post_attention_layernorm.weight torch.float16\n",
      "model.layers.25.self_attn.q_proj.weight torch.float16\n",
      "model.layers.25.self_attn.k_proj.weight torch.float16\n",
      "model.layers.25.self_attn.v_proj.weight torch.float16\n",
      "model.layers.25.self_attn.o_proj.weight torch.float16\n",
      "model.layers.25.mlp.gate_proj.weight torch.float16\n",
      "model.layers.25.mlp.up_proj.weight torch.float16\n",
      "model.layers.25.mlp.down_proj.weight torch.float16\n",
      "model.layers.25.input_layernorm.weight torch.float16\n",
      "model.layers.25.post_attention_layernorm.weight torch.float16\n",
      "model.layers.26.self_attn.q_proj.weight torch.float16\n",
      "model.layers.26.self_attn.k_proj.weight torch.float16\n",
      "model.layers.26.self_attn.v_proj.weight torch.float16\n",
      "model.layers.26.self_attn.o_proj.weight torch.float16\n",
      "model.layers.26.mlp.gate_proj.weight torch.float16\n",
      "model.layers.26.mlp.up_proj.weight torch.float16\n",
      "model.layers.26.mlp.down_proj.weight torch.float16\n",
      "model.layers.26.input_layernorm.weight torch.float16\n",
      "model.layers.26.post_attention_layernorm.weight torch.float16\n",
      "model.layers.27.self_attn.q_proj.weight torch.float16\n",
      "model.layers.27.self_attn.k_proj.weight torch.float16\n",
      "model.layers.27.self_attn.v_proj.weight torch.float16\n",
      "model.layers.27.self_attn.o_proj.weight torch.float16\n",
      "model.layers.27.mlp.gate_proj.weight torch.float16\n",
      "model.layers.27.mlp.up_proj.weight torch.float16\n",
      "model.layers.27.mlp.down_proj.weight torch.float16\n",
      "model.layers.27.input_layernorm.weight torch.float16\n",
      "model.layers.27.post_attention_layernorm.weight torch.float16\n",
      "model.layers.28.self_attn.q_proj.weight torch.float16\n",
      "model.layers.28.self_attn.k_proj.weight torch.float16\n",
      "model.layers.28.self_attn.v_proj.weight torch.float16\n",
      "model.layers.28.self_attn.o_proj.weight torch.float16\n",
      "model.layers.28.mlp.gate_proj.weight torch.float16\n",
      "model.layers.28.mlp.up_proj.weight torch.float16\n",
      "model.layers.28.mlp.down_proj.weight torch.float16\n",
      "model.layers.28.input_layernorm.weight torch.float16\n",
      "model.layers.28.post_attention_layernorm.weight torch.float16\n",
      "model.layers.29.self_attn.q_proj.weight torch.float16\n",
      "model.layers.29.self_attn.k_proj.weight torch.float16\n",
      "model.layers.29.self_attn.v_proj.weight torch.float16\n",
      "model.layers.29.self_attn.o_proj.weight torch.float16\n",
      "model.layers.29.mlp.gate_proj.weight torch.float16\n",
      "model.layers.29.mlp.up_proj.weight torch.float16\n",
      "model.layers.29.mlp.down_proj.weight torch.float16\n",
      "model.layers.29.input_layernorm.weight torch.float16\n",
      "model.layers.29.post_attention_layernorm.weight torch.float16\n",
      "model.layers.30.self_attn.q_proj.weight torch.float16\n",
      "model.layers.30.self_attn.k_proj.weight torch.float16\n",
      "model.layers.30.self_attn.v_proj.weight torch.float16\n",
      "model.layers.30.self_attn.o_proj.weight torch.float16\n",
      "model.layers.30.mlp.gate_proj.weight torch.float16\n",
      "model.layers.30.mlp.up_proj.weight torch.float16\n",
      "model.layers.30.mlp.down_proj.weight torch.float16\n",
      "model.layers.30.input_layernorm.weight torch.float16\n",
      "model.layers.30.post_attention_layernorm.weight torch.float16\n",
      "model.layers.31.self_attn.q_proj.weight torch.float16\n",
      "model.layers.31.self_attn.k_proj.weight torch.float16\n",
      "model.layers.31.self_attn.v_proj.weight torch.float16\n",
      "model.layers.31.self_attn.o_proj.weight torch.float16\n",
      "model.layers.31.mlp.gate_proj.weight torch.float16\n",
      "model.layers.31.mlp.up_proj.weight torch.float16\n",
      "model.layers.31.mlp.down_proj.weight torch.float16\n",
      "model.layers.31.input_layernorm.weight torch.float16\n",
      "model.layers.31.post_attention_layernorm.weight torch.float16\n",
      "model.norm.weight torch.float16\n",
      "lm_head.weight torch.float16\n"
     ]
    }
   ],
   "execution_count": 8
  },
  {
   "metadata": {
    "ExecuteTime": {
     "end_time": "2025-03-12T07:32:14.333705Z",
     "start_time": "2025-03-12T07:32:14.325706Z"
    }
   },
   "cell_type": "code",
   "source": [
    "config = LoraConfig(task_type=TaskType.CAUSAL_LM)\n",
    "config"
   ],
   "id": "2ceba12bc9ac3978",
   "outputs": [
    {
     "data": {
      "text/plain": [
       "LoraConfig(peft_type=<PeftType.LORA: 'LORA'>, auto_mapping=None, base_model_name_or_path=None, revision=None, task_type=<TaskType.CAUSAL_LM: 'CAUSAL_LM'>, inference_mode=False, r=8, target_modules=None, lora_alpha=8, lora_dropout=0.0, fan_in_fan_out=False, bias='none', use_rslora=False, modules_to_save=None, init_lora_weights=True, layers_to_transform=None, layers_pattern=None, rank_pattern={}, alpha_pattern={}, megatron_config=None, megatron_core='megatron.core', loftq_config={}, use_dora=False, layer_replication=None)"
      ]
     },
     "execution_count": 9,
     "metadata": {},
     "output_type": "execute_result"
    }
   ],
   "execution_count": 9
  },
  {
   "metadata": {},
   "cell_type": "code",
   "source": [
    "model = get_peft_model(model, config)\n",
    "config\n",
    "for name, param in model.named_parameters():\n",
    "    print(name, param.dtype)"
   ],
   "id": "dfda4ccb6a44c2e5",
   "outputs": [],
   "execution_count": null
  },
  {
   "metadata": {
    "ExecuteTime": {
     "end_time": "2025-03-12T07:42:29.566060Z",
     "start_time": "2025-03-12T07:42:29.425898Z"
    }
   },
   "cell_type": "code",
   "source": [
    "model.enable_input_require_grads()# 开启梯度检查点时候必须要开启这个选项\n",
    "model = model.half()\n",
    "args = TrainingArguments(\n",
    "    output_dir=\"./半精度训练\",\n",
    "    num_train_epochs=1,\n",
    "    per_device_train_batch_size=1,\n",
    "    gradient_accumulation_steps=8,\n",
    "    logging_steps=10,\n",
    "    save_steps=20,\n",
    "    gradient_checkpointing=True,\n",
    "    adam_epsilon=1e-4,\n",
    ")\n",
    "\n",
    "trainer = Trainer(\n",
    "    model=model,\n",
    "    args=args,\n",
    "    tokenizer=tokenizer,\n",
    "    train_dataset=tokenized_datasets.select(range(10)),\n",
    "    data_collator=DataCollatorForSeq2Seq(tokenizer=tokenizer, padding=True),\n",
    ")"
   ],
   "id": "83669e708fc981c7",
   "outputs": [],
   "execution_count": 18
  },
  {
   "metadata": {
    "ExecuteTime": {
     "end_time": "2025-03-12T07:49:36.103128Z",
     "start_time": "2025-03-12T07:42:30.197308Z"
    }
   },
   "cell_type": "code",
   "source": "trainer.train()",
   "id": "24b43e41867d7b60",
   "outputs": [
    {
     "data": {
      "text/plain": [
       "<IPython.core.display.HTML object>"
      ],
      "text/html": [
       "\n",
       "    <div>\n",
       "      \n",
       "      <progress value='1' max='1' style='width:300px; height:20px; vertical-align: middle;'></progress>\n",
       "      [1/1 00:00, Epoch 0/1]\n",
       "    </div>\n",
       "    <table border=\"1\" class=\"dataframe\">\n",
       "  <thead>\n",
       " <tr style=\"text-align: left;\">\n",
       "      <th>Step</th>\n",
       "      <th>Training Loss</th>\n",
       "    </tr>\n",
       "  </thead>\n",
       "  <tbody>\n",
       "  </tbody>\n",
       "</table><p>"
      ]
     },
     "metadata": {},
     "output_type": "display_data"
    },
    {
     "data": {
      "text/plain": [
       "TrainOutput(global_step=1, training_loss=0.0, metrics={'train_runtime': 425.0359, 'train_samples_per_second': 0.024, 'train_steps_per_second': 0.002, 'total_flos': 65057533132800.0, 'train_loss': 0.0, 'epoch': 0.8})"
      ]
     },
     "execution_count": 19,
     "metadata": {},
     "output_type": "execute_result"
    }
   ],
   "execution_count": 19
  },
  {
   "metadata": {},
   "cell_type": "code",
   "source": "",
   "id": "604d8044684d4c40",
   "outputs": [],
   "execution_count": null
  }
 ],
 "metadata": {
  "kernelspec": {
   "display_name": "Python 3",
   "language": "python",
   "name": "python3"
  },
  "language_info": {
   "codemirror_mode": {
    "name": "ipython",
    "version": 2
   },
   "file_extension": ".py",
   "mimetype": "text/x-python",
   "name": "python",
   "nbconvert_exporter": "python",
   "pygments_lexer": "ipython2",
   "version": "2.7.6"
  }
 },
 "nbformat": 4,
 "nbformat_minor": 5
}
