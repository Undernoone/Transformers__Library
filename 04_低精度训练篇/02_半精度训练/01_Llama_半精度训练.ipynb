{
 "cells": [
  {
   "cell_type": "code",
   "id": "initial_id",
   "metadata": {
    "collapsed": true,
    "ExecuteTime": {
     "end_time": "2025-03-12T14:04:57.213785Z",
     "start_time": "2025-03-12T14:04:52.017843Z"
    }
   },
   "source": [
    "import torch\n",
    "from datasets import Dataset\n",
    "from peft import LoraConfig, TaskType, get_peft_model\n",
    "from transformers import AutoTokenizer, AutoModelForCausalLM, DataCollatorForSeq2Seq, TrainingArguments, Trainer"
   ],
   "execution_count": 3,
   "outputs": []
  },
  {
   "metadata": {
    "ExecuteTime": {
     "end_time": "2025-03-12T14:00:31.795767Z",
     "start_time": "2025-03-12T14:00:31.766741Z"
    }
   },
   "cell_type": "code",
   "source": [
    "dataset = Dataset.load_from_disk(\"../../02_实战演练篇/09_对话机器人/alpaca_data_zh\") \n",
    "dataset\n",
    "dataset[0:3]"
   ],
   "id": "fc7f295d1a28c859",
   "execution_count": 2,
   "outputs": []
  },
  {
   "metadata": {
    "ExecuteTime": {
     "end_time": "2025-03-12T14:00:54.118510Z",
     "start_time": "2025-03-12T14:00:53.868359Z"
    }
   },
   "cell_type": "code",
   "source": [
    "tokenizer = AutoTokenizer.from_pretrained(\"D:/Study_Date/Modelscope/cache/modelscope/Llama-2-7b-ms\")\n",
    "tokenizer"
   ],
   "id": "24ec8efad5dc24fb",
   "execution_count": 3,
   "outputs": []
  },
  {
   "metadata": {
    "ExecuteTime": {
     "end_time": "2025-03-12T14:01:05.336727Z",
     "start_time": "2025-03-12T14:01:05.314727Z"
    }
   },
   "cell_type": "code",
   "source": [
    "tokenizer.padding_side = \"right\"\n",
    "tokenizer.pad_token_id = 2\n",
    "tokenizer"
   ],
   "id": "b556178ffce12532",
   "execution_count": 4,
   "outputs": []
  },
  {
   "metadata": {
    "ExecuteTime": {
     "end_time": "2025-03-12T14:01:35.700818Z",
     "start_time": "2025-03-12T14:01:35.691598Z"
    }
   },
   "cell_type": "code",
   "source": [
    "def preprocess_function(examples):\n",
    "    max_length = 1024\n",
    "    inputs_ids, attention_mask, labels = [], [], []\n",
    "    instruction = tokenizer(\"\\n\".join([\"Human: \" + examples[\"instruction\"], examples[\"input\"]]).strip() + \"\\n\\nAssistant: \",add_special_tokens=False)\n",
    "    response = tokenizer(examples[\"output\"], add_special_tokens=False)\n",
    "    inputs_ids = instruction[\"input_ids\"] + response[\"input_ids\"] + [tokenizer.eos_token_id]\n",
    "    attention_mask = instruction[\"attention_mask\"] + response[\"attention_mask\"] + [1]\n",
    "    labels = [-100] * len(instruction[\"input_ids\"]) + response[\"input_ids\"] + [tokenizer.eos_token_id] # 模型只需要学习response\n",
    "    if len(inputs_ids) > max_length:\n",
    "        inputs_ids = inputs_ids[:max_length]\n",
    "        attention_mask = attention_mask[:max_length]\n",
    "        labels = labels[:max_length]\n",
    "    return {\"input_ids\": inputs_ids, \"attention_mask\": attention_mask, \"labels\": labels}"
   ],
   "id": "4cfa036bf4da871c",
   "execution_count": 5,
   "outputs": []
  },
  {
   "metadata": {
    "ExecuteTime": {
     "end_time": "2025-03-12T14:01:45.473943Z",
     "start_time": "2025-03-12T14:01:45.320354Z"
    }
   },
   "cell_type": "code",
   "source": [
    "tokenized_datasets = dataset.map(preprocess_function,remove_columns=dataset.column_names)\n",
    "tokenized_datasets"
   ],
   "id": "f6c3fdeec80a579a",
   "execution_count": 6,
   "outputs": []
  },
  {
   "metadata": {
    "ExecuteTime": {
     "end_time": "2025-03-12T14:01:49.827904Z",
     "start_time": "2025-03-12T14:01:49.806895Z"
    }
   },
   "cell_type": "code",
   "source": "tokenizer.decode(tokenized_datasets[0][\"input_ids\"])",
   "id": "8291928893928236",
   "execution_count": 7,
   "outputs": []
  },
  {
   "metadata": {
    "ExecuteTime": {
     "end_time": "2025-03-12T14:05:09.609754Z",
     "start_time": "2025-03-12T14:05:08.746134Z"
    }
   },
   "cell_type": "code",
   "source": "model = AutoModelForCausalLM.from_pretrained(\"D:/Study_Date/Modelscope/cache/modelscope/Llama-2-7b-ms\",low_cpu_mem_usage=True,torch_dtype=torch.float16)",
   "id": "87050e8664173661",
   "execution_count": 5,
   "outputs": []
  },
  {
   "metadata": {
    "ExecuteTime": {
     "end_time": "2025-03-12T14:05:05.361226Z",
     "start_time": "2025-03-12T14:05:04.710112Z"
    }
   },
   "cell_type": "code",
   "source": [
    "for name, param in model.named_parameters():\n",
    "    print(name, param.dtype)"
   ],
   "id": "b4c1506f7cdee70",
   "execution_count": 4,
   "outputs": []
  },
  {
   "metadata": {
    "ExecuteTime": {
     "end_time": "2025-03-12T13:14:28.298706Z",
     "start_time": "2025-03-12T13:14:28.284708Z"
    }
   },
   "cell_type": "code",
   "source": [
    "config = LoraConfig(task_type=TaskType.CAUSAL_LM)\n",
    "config"
   ],
   "id": "2ceba12bc9ac3978",
   "execution_count": 10,
   "outputs": []
  },
  {
   "metadata": {
    "ExecuteTime": {
     "end_time": "2025-03-12T13:14:28.408108Z",
     "start_time": "2025-03-12T13:14:28.299707Z"
    }
   },
   "cell_type": "code",
   "source": [
    "model = get_peft_model(model, config)\n",
    "config\n",
    "for name, param in model.named_parameters():\n",
    "    print(name, param.dtype)"
   ],
   "id": "dfda4ccb6a44c2e5",
   "execution_count": 11,
   "outputs": []
  },
  {
   "metadata": {
    "ExecuteTime": {
     "end_time": "2025-03-12T13:14:28.423116Z",
     "start_time": "2025-03-12T13:14:28.409112Z"
    }
   },
   "cell_type": "code",
   "source": [
    "model.enable_input_require_grads()# 开启梯度检查点时候必须要开启这个选项\n",
    "model = model.half()\n",
    "for name, param in model.named_parameters():\n",
    "    print(name, param.dtype)"
   ],
   "id": "83669e708fc981c7",
   "execution_count": 12,
   "outputs": []
  },
  {
   "metadata": {
    "ExecuteTime": {
     "end_time": "2025-03-12T13:14:45.205741Z",
     "start_time": "2025-03-12T13:14:28.424109Z"
    }
   },
   "cell_type": "code",
   "source": [
    "args = TrainingArguments(\n",
    "    output_dir=\"./01_半精度训练\",\n",
    "    num_train_epochs=1,\n",
    "    per_device_train_batch_size=1,\n",
    "    gradient_accumulation_steps=8,\n",
    "    logging_steps=10,\n",
    "    save_steps=20,\n",
    "    gradient_checkpointing=True,\n",
    "    adam_epsilon=1e-4,\n",
    ")\n",
    "\n",
    "trainer = Trainer(\n",
    "    model=model,\n",
    "    args=args,\n",
    "    tokenizer=tokenizer,\n",
    "    train_dataset=tokenized_datasets.select(range(30)),\n",
    "    data_collator=DataCollatorForSeq2Seq(tokenizer=tokenizer, padding=True),\n",
    ")"
   ],
   "id": "9ce8c8410ec0803b",
   "execution_count": 13,
   "outputs": []
  },
  {
   "metadata": {
    "ExecuteTime": {
     "end_time": "2025-03-12T13:18:11.483062Z",
     "start_time": "2025-03-12T13:14:45.213741Z"
    }
   },
   "cell_type": "code",
   "source": "trainer.train()",
   "id": "24b43e41867d7b60",
   "execution_count": 14,
   "outputs": []
  },
  {
   "metadata": {
    "jupyter": {
     "is_executing": true
    },
    "ExecuteTime": {
     "start_time": "2025-03-12T13:20:21.639912Z"
    }
   },
   "cell_type": "code",
   "source": "",
   "id": "604d8044684d4c40",
   "execution_count": null,
   "outputs": []
  },
  {
   "metadata": {},
   "cell_type": "code",
   "source": "",
   "id": "ae34a4fd49e889ac",
   "execution_count": null,
   "outputs": []
  }
 ],
 "metadata": {
  "kernelspec": {
   "display_name": "Python 3",
   "language": "python",
   "name": "python3"
  },
  "language_info": {
   "codemirror_mode": {
    "name": "ipython",
    "version": 2
   },
   "file_extension": ".py",
   "mimetype": "text/x-python",
   "name": "python",
   "nbconvert_exporter": "python",
   "pygments_lexer": "ipython2",
   "version": "2.7.6"
  }
 },
 "nbformat": 4,
 "nbformat_minor": 5
}
