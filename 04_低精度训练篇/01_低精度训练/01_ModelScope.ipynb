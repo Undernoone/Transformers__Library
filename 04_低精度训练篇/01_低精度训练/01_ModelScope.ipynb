{
 "cells": [
  {
   "metadata": {},
   "cell_type": "markdown",
   "source": "# 使用ModelScope进行低精度训练",
   "id": "61275edfc906fbe8"
  },
  {
   "metadata": {
    "ExecuteTime": {
     "end_time": "2025-03-12T11:58:51.494630Z",
     "start_time": "2025-03-12T11:58:50.740764Z"
    }
   },
   "cell_type": "code",
   "source": [
    "from modelscope.hub.snapshot_download import snapshot_download\n",
    "snapshot_download(model_id=\"modelscope/Llama-2-7b-ms\",cache_dir=\"D:/Study_Date/Modelscope/cache\",ignore_file_pattern=\".bin\")# ignore_file_pattern参数可选，用于过滤不需要下载的文件，如.bin文件"
   ],
   "id": "e81b42608916f8a3",
   "outputs": [
    {
     "name": "stdout",
     "output_type": "stream",
     "text": [
      "Downloading Model to directory: D:/Study_Date/Modelscope/cache\\modelscope\\Llama-2-7b-ms\n"
     ]
    },
    {
     "name": "stderr",
     "output_type": "stream",
     "text": [
      "2025-03-12 19:58:51,110 - modelscope - WARNING - Model revision not specified, use revision: v1.0.2\n"
     ]
    },
    {
     "data": {
      "text/plain": [
       "'D:/Study_Date/Modelscope/cache\\\\modelscope\\\\Llama-2-7b-ms'"
      ]
     },
     "execution_count": 3,
     "metadata": {},
     "output_type": "execute_result"
    }
   ],
   "execution_count": 3
  },
  {
   "metadata": {},
   "cell_type": "code",
   "outputs": [],
   "execution_count": null,
   "source": "",
   "id": "b4f7c5ce4d15be8d"
  }
 ],
 "metadata": {
  "kernelspec": {
   "display_name": "Python 3",
   "language": "python",
   "name": "python3"
  },
  "language_info": {
   "codemirror_mode": {
    "name": "ipython",
    "version": 2
   },
   "file_extension": ".py",
   "mimetype": "text/x-python",
   "name": "python",
   "nbconvert_exporter": "python",
   "pygments_lexer": "ipython2",
   "version": "2.7.6"
  }
 },
 "nbformat": 4,
 "nbformat_minor": 5
}
